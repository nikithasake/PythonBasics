{
 "cells": [
  {
   "cell_type": "markdown",
   "metadata": {},
   "source": [
    "# Functions\n",
    "###### Advantages:\n",
    "*code reusability*\n"
   ]
  },
  {
   "cell_type": "code",
   "execution_count": 1,
   "metadata": {},
   "outputs": [
    {
     "name": "stdout",
     "output_type": "stream",
     "text": [
      "hello nikki\n",
      "hello harish\n",
      "hello nimbu\n"
     ]
    }
   ],
   "source": [
    "def wish(name):#defining\n",
    "    print(\"hello\",name)\n",
    "wish(\"nikki\")#calling\n",
    "wish(\"harish\")\n",
    "wish(\"nimbu\")"
   ]
  },
  {
   "cell_type": "markdown",
   "metadata": {},
   "source": [
    "######  There are two types of functions:\n",
    "1.Built in function:\n",
    "\n",
    " * python will provide built in functions.\n",
    "\n",
    "eg: id()\n",
    "   len()\n",
    "   eval()\n",
    "   sum()\n",
    "   type()\n",
    "   \n",
    "2.user defined function:\n",
    "\n",
    "  * based on my program requiement i defined the functions"
   ]
  },
  {
   "cell_type": "markdown",
   "metadata": {},
   "source": [
    "### Difference btwn method and function\n",
    "- if any function is defined inside a class is called method.\n",
    "- if any function is defied outside a class is called function."
   ]
  },
  {
   "cell_type": "markdown",
   "metadata": {},
   "source": [
    "#### Return stmt\n",
    "- In other language the return stmt returns one value but in python it returns multiple value.\n",
    "- if you are not taking any return type it will return default value is None"
   ]
  },
  {
   "cell_type": "code",
   "execution_count": 2,
   "metadata": {},
   "outputs": [
    {
     "name": "stdout",
     "output_type": "stream",
     "text": [
      "hi\n",
      "None\n"
     ]
    }
   ],
   "source": [
    "#example fro return stmt\n",
    "def wish():\n",
    "    print(\"hi\")\n",
    "print(wish())"
   ]
  },
  {
   "cell_type": "code",
   "execution_count": 3,
   "metadata": {},
   "outputs": [
    {
     "name": "stdout",
     "output_type": "stream",
     "text": [
      "nimbu\n",
      "dimbu\n"
     ]
    }
   ],
   "source": [
    "def f1():\n",
    "    return \"nimbu\"\n",
    "def f2():\n",
    "    print(\"dimbu\")\n",
    "print(f1())\n",
    "f2()"
   ]
  },
  {
   "cell_type": "code",
   "execution_count": 4,
   "metadata": {},
   "outputs": [
    {
     "name": "stdout",
     "output_type": "stream",
     "text": [
      "15\n",
      "-5\n",
      "50\n",
      "0.5\n"
     ]
    }
   ],
   "source": [
    "#example for return stmt\n",
    "def calc(a,b):\n",
    "    sum=a+b\n",
    "    sub=a-b\n",
    "    mul=a*b\n",
    "    div=a/b\n",
    "    return sum,sub,mul,div\n",
    "t=calc(5,10)\n",
    "for x in t:\n",
    "    print(x)"
   ]
  },
  {
   "cell_type": "markdown",
   "metadata": {},
   "source": [
    "### parameters\n",
    "1. positional\n",
    "2. keyword\n",
    "3. default\n",
    "4. var len arg"
   ]
  },
  {
   "cell_type": "markdown",
   "metadata": {},
   "source": [
    "##### positional arguments\n",
    "- order is imp"
   ]
  },
  {
   "cell_type": "code",
   "execution_count": 5,
   "metadata": {},
   "outputs": [
    {
     "data": {
      "text/plain": [
       "(15, 50)"
      ]
     },
     "execution_count": 5,
     "metadata": {},
     "output_type": "execute_result"
    }
   ],
   "source": [
    "#Example for postional arguments\n",
    "def calc(a,b):\n",
    "    sum=a+b\n",
    "    mul=a*b\n",
    "    return sum,mul\n",
    "\n",
    "calc(5,10)"
   ]
  },
  {
   "cell_type": "markdown",
   "metadata": {},
   "source": [
    "#####  keyword argument\n",
    "- order is imp"
   ]
  },
  {
   "cell_type": "code",
   "execution_count": 4,
   "metadata": {},
   "outputs": [
    {
     "data": {
      "text/plain": [
       "(15, 50)"
      ]
     },
     "execution_count": 4,
     "metadata": {},
     "output_type": "execute_result"
    }
   ],
   "source": [
    "#example for keyword argument\n",
    "def calc(a,b):\n",
    "    sum=a+b\n",
    "    mul=a*b\n",
    "    return sum,mul\n",
    "calc(b=5,a=10)"
   ]
  },
  {
   "cell_type": "markdown",
   "metadata": {},
   "source": [
    "#### Default argument\n",
    "- Default arguments should be last"
   ]
  },
  {
   "cell_type": "code",
   "execution_count": 5,
   "metadata": {},
   "outputs": [],
   "source": [
    "#example for default argument\n",
    "def wish(msg,name=\"guest\"):\n",
    "    pass"
   ]
  },
  {
   "cell_type": "code",
   "execution_count": 6,
   "metadata": {},
   "outputs": [
    {
     "ename": "SyntaxError",
     "evalue": "positional argument follows keyword argument (<ipython-input-6-31cbd1fec512>, line 6)",
     "output_type": "error",
     "traceback": [
      "\u001b[0;36m  File \u001b[0;32m\"<ipython-input-6-31cbd1fec512>\"\u001b[0;36m, line \u001b[0;32m6\u001b[0m\n\u001b[0;31m    calc(a=10,5)\u001b[0m\n\u001b[0m             ^\u001b[0m\n\u001b[0;31mSyntaxError\u001b[0m\u001b[0;31m:\u001b[0m positional argument follows keyword argument\n"
     ]
    }
   ],
   "source": [
    "#after keyword dont take postional arguments\n",
    "def calc(a,b):\n",
    "    sum=a+b\n",
    "    mul=a*b\n",
    "    return sum,mul\n",
    "calc(a=10,5)"
   ]
  },
  {
   "cell_type": "code",
   "execution_count": 2,
   "metadata": {},
   "outputs": [
    {
     "ename": "TypeError",
     "evalue": "calc() got multiple values for argument 'a'",
     "output_type": "error",
     "traceback": [
      "\u001b[0;31m---------------------------------------------------------------------------\u001b[0m",
      "\u001b[0;31mTypeError\u001b[0m                                 Traceback (most recent call last)",
      "\u001b[0;32m<ipython-input-2-a780942157d5>\u001b[0m in \u001b[0;36m<module>\u001b[0;34m()\u001b[0m\n\u001b[1;32m      4\u001b[0m     \u001b[0mmul\u001b[0m\u001b[0;34m=\u001b[0m\u001b[0ma\u001b[0m\u001b[0;34m*\u001b[0m\u001b[0mb\u001b[0m\u001b[0;34m\u001b[0m\u001b[0;34m\u001b[0m\u001b[0m\n\u001b[1;32m      5\u001b[0m     \u001b[0;32mreturn\u001b[0m \u001b[0msum\u001b[0m\u001b[0;34m,\u001b[0m\u001b[0mmul\u001b[0m\u001b[0;34m\u001b[0m\u001b[0;34m\u001b[0m\u001b[0m\n\u001b[0;32m----> 6\u001b[0;31m \u001b[0mcalc\u001b[0m\u001b[0;34m(\u001b[0m\u001b[0;36m5\u001b[0m\u001b[0;34m,\u001b[0m\u001b[0ma\u001b[0m\u001b[0;34m=\u001b[0m\u001b[0;36m10\u001b[0m\u001b[0;34m)\u001b[0m\u001b[0;34m\u001b[0m\u001b[0;34m\u001b[0m\u001b[0m\n\u001b[0m",
      "\u001b[0;31mTypeError\u001b[0m: calc() got multiple values for argument 'a'"
     ]
    }
   ],
   "source": [
    "#dont take multiple values for argument a\n",
    "def calc(a,b):\n",
    "    sum=a+b\n",
    "    mul=a*b\n",
    "    return sum,mul\n",
    "calc(5,a=10)"
   ]
  },
  {
   "cell_type": "markdown",
   "metadata": {},
   "source": [
    "#### variable length arguments:\n",
    "    "
   ]
  },
  {
   "cell_type": "code",
   "execution_count": 1,
   "metadata": {},
   "outputs": [
    {
     "name": "stdout",
     "output_type": "stream",
     "text": [
      "30\n"
     ]
    },
    {
     "ename": "TypeError",
     "evalue": "sum() takes 2 positional arguments but 3 were given",
     "output_type": "error",
     "traceback": [
      "\u001b[0;31m---------------------------------------------------------------------------\u001b[0m",
      "\u001b[0;31mTypeError\u001b[0m                                 Traceback (most recent call last)",
      "\u001b[0;32m<ipython-input-1-7671a120778a>\u001b[0m in \u001b[0;36m<module>\u001b[0;34m()\u001b[0m\n\u001b[1;32m      4\u001b[0m     \u001b[0mprint\u001b[0m\u001b[0;34m(\u001b[0m\u001b[0ma\u001b[0m\u001b[0;34m+\u001b[0m\u001b[0mb\u001b[0m\u001b[0;34m)\u001b[0m\u001b[0;34m\u001b[0m\u001b[0;34m\u001b[0m\u001b[0m\n\u001b[1;32m      5\u001b[0m \u001b[0msum\u001b[0m\u001b[0;34m(\u001b[0m\u001b[0;36m10\u001b[0m\u001b[0;34m,\u001b[0m\u001b[0;36m20\u001b[0m\u001b[0;34m)\u001b[0m\u001b[0;34m\u001b[0m\u001b[0;34m\u001b[0m\u001b[0m\n\u001b[0;32m----> 6\u001b[0;31m \u001b[0msum\u001b[0m\u001b[0;34m(\u001b[0m\u001b[0;36m10\u001b[0m\u001b[0;34m,\u001b[0m\u001b[0;36m20\u001b[0m\u001b[0;34m,\u001b[0m\u001b[0;36m30\u001b[0m\u001b[0;34m)\u001b[0m\u001b[0;34m\u001b[0m\u001b[0;34m\u001b[0m\u001b[0m\n\u001b[0m\u001b[1;32m      7\u001b[0m \u001b[0msum\u001b[0m\u001b[0;34m(\u001b[0m\u001b[0;36m10\u001b[0m\u001b[0;34m,\u001b[0m\u001b[0;36m20\u001b[0m\u001b[0;34m,\u001b[0m\u001b[0;36m30\u001b[0m\u001b[0;34m,\u001b[0m\u001b[0;36m40\u001b[0m\u001b[0;34m,\u001b[0m\u001b[0;36m50\u001b[0m\u001b[0;34m)\u001b[0m\u001b[0;34m\u001b[0m\u001b[0;34m\u001b[0m\u001b[0m\n",
      "\u001b[0;31mTypeError\u001b[0m: sum() takes 2 positional arguments but 3 were given"
     ]
    }
   ],
   "source": [
    "#if you change number of arguments so for every change we have to write new method..\n",
    "#unnecessary length of code is increse so we overcome this problem we should go for variable length argument\n",
    "def sum(a,b):\n",
    "    print(a+b)\n",
    "sum(10,20)\n",
    "sum(10,20,30)\n",
    "sum(10,20,30,40,50)"
   ]
  },
  {
   "cell_type": "code",
   "execution_count": 7,
   "metadata": {},
   "outputs": [
    {
     "name": "stdout",
     "output_type": "stream",
     "text": [
      "var-arg function\n",
      "var-arg function\n",
      "var-arg function\n",
      "var-arg function\n",
      "var-arg function\n"
     ]
    }
   ],
   "source": [
    "#Example for var length arg\n",
    "# * means any no.of arguments we can take\n",
    "# a means tuple..internaly it is tuple\n",
    "def f1(*a):\n",
    "    print(\"var-arg function\")\n",
    "f1()\n",
    "f1(10)\n",
    "f1(10,20)\n",
    "f1(10,20,30)\n",
    "f1(10,20,30,40)"
   ]
  },
  {
   "cell_type": "code",
   "execution_count": 8,
   "metadata": {},
   "outputs": [
    {
     "name": "stdout",
     "output_type": "stream",
     "text": [
      "the sum: 0\n",
      "the sum: 10\n",
      "the sum: 30\n",
      "the sum: 60\n",
      "the sum: 100\n"
     ]
    }
   ],
   "source": [
    "#wap tp print sum of given numbers.i dont know how many numbers i am passing\n",
    "def sum(*n):\n",
    "    result=0\n",
    "    for x in n:\n",
    "        result=result+x\n",
    "    print(\"the sum:\",result)\n",
    "sum()\n",
    "sum(10)\n",
    "sum(10,20)\n",
    "sum(10,20,30)\n",
    "sum(10,20,30,40)"
   ]
  },
  {
   "cell_type": "code",
   "execution_count": 9,
   "metadata": {},
   "outputs": [
    {
     "name": "stdout",
     "output_type": "stream",
     "text": [
      "the sum by nikki : 0\n",
      "the sum by nani : 10\n",
      "the sum by harish : 30\n",
      "the sum by nimbu : 60\n",
      "the sum by cat : 100\n"
     ]
    }
   ],
   "source": [
    "#simultaneosly take positional and var-length arg\n",
    "#here we are taking var arg is in second arguments so the order is not imp\n",
    "def sum(name,*n):\n",
    "    result=0\n",
    "    for x in n:\n",
    "        result=result+x\n",
    "    print(\"the sum by\",name,\":\",result)\n",
    "sum(\"nikki\")\n",
    "sum(\"nani\",10)\n",
    "sum(\"harish\",10,20)\n",
    "sum(\"nimbu\",10,20,30)\n",
    "sum(\"cat\",10,20,30,40)"
   ]
  },
  {
   "cell_type": "code",
   "execution_count": 10,
   "metadata": {},
   "outputs": [
    {
     "name": "stdout",
     "output_type": "stream",
     "text": [
      "the sum by nikki : 0\n",
      "the sum by nani : 10\n",
      "the sum by harish : 30\n",
      "the sum by nimbu : 60\n",
      "the sum by cat : 100\n"
     ]
    }
   ],
   "source": [
    "#here we are taking first arguments is var-arg so we should take keyword arg after var-arg ....\n",
    "def sum(*n,name):\n",
    "    result=0\n",
    "    for x in n:\n",
    "        result=result+x\n",
    "    print(\"the sum by\",name,\":\",result)\n",
    "sum(name=\"nikki\")\n",
    "sum(10,name=\"nani\")\n",
    "sum(10,20,name=\"harish\")\n",
    "sum(10,20,30,name=\"nimbu\",)\n",
    "sum(10,20,30,40,name=\"cat\",)"
   ]
  },
  {
   "cell_type": "markdown",
   "metadata": {},
   "source": [
    "#### keyword variable length argument"
   ]
  },
  {
   "cell_type": "code",
   "execution_count": 11,
   "metadata": {},
   "outputs": [
    {
     "name": "stdout",
     "output_type": "stream",
     "text": [
      "<class 'dict'>\n",
      "Information\n",
      "name : nikki\n",
      "marks : 100\n",
      "age : 19\n",
      "\n",
      "<class 'dict'>\n",
      "Information\n",
      "name : nimbu\n",
      "brand1 : RC\n",
      "brand2 : KF\n",
      "brand3 : FO\n",
      "\n",
      "<class 'dict'>\n",
      "Information\n",
      "name : harish\n",
      "color1 : red\n",
      "color2 : green\n",
      "color3 : blue\n",
      "\n"
     ]
    }
   ],
   "source": [
    "# keyword variable length argument---Internally these keyword arguments will be stored inside a dictionary.\n",
    "def display(**kwargs):\n",
    "    print(type(kwargs))\n",
    "    print(\"Information\")\n",
    "    for x,y in kwargs.items():\n",
    "        print(x,\":\",y)\n",
    "    print()\n",
    "    \n",
    "display(name=\"nikki\",marks=100,age=19)\n",
    "display(name=\"nimbu\",brand1=\"RC\",brand2=\"KF\",brand3=\"FO\")\n",
    "display(name=\"harish\",color1=\"red\",color2=\"green\",color3=\"blue\")\n",
    "\n"
   ]
  },
  {
   "cell_type": "markdown",
   "metadata": {},
   "source": [
    " ### Difference b/w function,module,package,library\n",
    "-   Function: group of stmnts\n",
    "-   module: group of functions\n",
    "-   package: group of module\n",
    "-   library: group of packages"
   ]
  },
  {
   "cell_type": "markdown",
   "metadata": {},
   "source": [
    "###  Types  of variables:\n",
    "- python supports two types of variables\n",
    "   - 1.Global variable \n",
    "   - 2.local variable\n",
    "- Global variable: The variable which are declared outside of the function.\n",
    "- Local variable: The variable which are declared inside the function. \n",
    "###### Global keyword:\n",
    "- To declare global keyword inside the function\n",
    "- To make global keyword available to a function so that we can perform required modifications.\n"
   ]
  },
  {
   "cell_type": "code",
   "execution_count": 12,
   "metadata": {},
   "outputs": [
    {
     "name": "stdout",
     "output_type": "stream",
     "text": [
      "10\n",
      "10\n"
     ]
    }
   ],
   "source": [
    "#Global keyword example\n",
    "a=10\n",
    "def f1():\n",
    "    print(a)\n",
    "def f2():\n",
    "    print(a)\n",
    "f1()\n",
    "f2()"
   ]
  },
  {
   "cell_type": "code",
   "execution_count": 13,
   "metadata": {},
   "outputs": [
    {
     "name": "stdout",
     "output_type": "stream",
     "text": [
      "50\n",
      "10\n"
     ]
    }
   ],
   "source": [
    "#Example for local variable\n",
    "a=10\n",
    "def f1():\n",
    "    a=50\n",
    "    print(a)\n",
    "def f2():\n",
    "    print(a)\n",
    "f1()\n",
    "f2()"
   ]
  },
  {
   "cell_type": "code",
   "execution_count": 14,
   "metadata": {},
   "outputs": [
    {
     "name": "stdout",
     "output_type": "stream",
     "text": [
      "60\n",
      "60\n"
     ]
    }
   ],
   "source": [
    "#Example for Global keyword\n",
    "a=10\n",
    "def f1():\n",
    "    global a\n",
    "    a=60\n",
    "    print(a)\n",
    "def f2():\n",
    "    print(a)\n",
    "f1()\n",
    "f2()"
   ]
  },
  {
   "cell_type": "code",
   "execution_count": 15,
   "metadata": {},
   "outputs": [
    {
     "name": "stdout",
     "output_type": "stream",
     "text": [
      "777\n",
      "10\n"
     ]
    }
   ],
   "source": [
    "#If global variable and local variable having the same name then we can access global variable inside a function as follows\n",
    "a=10 #global variable\n",
    "def f1():\n",
    "    a=777 #local variable\n",
    "    print(a)\n",
    "    print(globals()['a'])\n",
    "f1()"
   ]
  }
 ],
 "metadata": {
  "kernelspec": {
   "display_name": "Python 3",
   "language": "python",
   "name": "python3"
  },
  "language_info": {
   "codemirror_mode": {
    "name": "ipython",
    "version": 3
   },
   "file_extension": ".py",
   "mimetype": "text/x-python",
   "name": "python",
   "nbconvert_exporter": "python",
   "pygments_lexer": "ipython3",
   "version": "3.6.9"
  }
 },
 "nbformat": 4,
 "nbformat_minor": 2
}
