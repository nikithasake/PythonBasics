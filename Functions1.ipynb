{
 "cells": [
  {
   "cell_type": "markdown",
   "metadata": {},
   "source": [
    "# Recursive function\n",
    "* A function that calls itself is known as recursive function\n",
    "###### Advantages:\n",
    "* reduce the length of code and improve readability\n",
    "* we can solve easily complex problems--towers of hanoi,n qeen problems"
   ]
  },
  {
   "cell_type": "code",
   "execution_count": 5,
   "metadata": {},
   "outputs": [
    {
     "name": "stdout",
     "output_type": "stream",
     "text": [
      "120\n",
      "1\n"
     ]
    }
   ],
   "source": [
    "#Wap to find factorial of given number with recursion.\n",
    "def factorial(n):\n",
    "    if n==0:\n",
    "        result=1\n",
    "    else:\n",
    "        result=n*factorial(n-1)\n",
    "    return result\n",
    "print(factorial(5))\n",
    "print(factorial(0))"
   ]
  },
  {
   "cell_type": "code",
   "execution_count": 6,
   "metadata": {},
   "outputs": [
    {
     "data": {
      "text/plain": [
       "120"
      ]
     },
     "execution_count": 6,
     "metadata": {},
     "output_type": "execute_result"
    }
   ],
   "source": [
    "#Write a function to find factorial of given number\n",
    "def fact(num):\n",
    "    result=1\n",
    "    while num>=1:\n",
    "        result=result*num\n",
    "        num=num-1\n",
    "    return result\n",
    "fact(5)"
   ]
  },
  {
   "cell_type": "markdown",
   "metadata": {},
   "source": [
    "# Anonymous Function\n",
    "- we can declare a function without name\n",
    "- The main purpose of anonymous function is instant use(only one time usage)\n",
    "- **example**\n",
    "-   3hrs journey--we have to talk with some other person -meanwhile \n",
    "they are offering some snacks---finally one guy reached his destination--\n",
    "but he didnt take phone number bcse he dont want his number--just for\n",
    "time passing\n"
   ]
  },
  {
   "cell_type": "markdown",
   "metadata": {},
   "source": [
    "### Normal function:"
   ]
  },
  {
   "cell_type": "code",
   "execution_count": 8,
   "metadata": {},
   "outputs": [],
   "source": [
    "#example for normal function:\n",
    "def squareit(n):\n",
    "    return n*n\n"
   ]
  },
  {
   "cell_type": "markdown",
   "metadata": {},
   "source": [
    "### lambda function:\n",
    "**syntax**\n",
    "- *lambda input:expression*\n",
    "- Lambda Function internally returns expression value and we are not required to write return statement explicitly.\n",
    "- Sometimes we can pass function as argument to another function.In such cases lambda functions are best choice.\n",
    "*example*:f1(function,1),filter(),map(),reduce()"
   ]
  },
  {
   "cell_type": "code",
   "execution_count": 10,
   "metadata": {},
   "outputs": [
    {
     "name": "stdout",
     "output_type": "stream",
     "text": [
      "16\n"
     ]
    }
   ],
   "source": [
    "#Example for lamda\n",
    "s=lambda n:n*n\n",
    "print(s(4))\n"
   ]
  },
  {
   "cell_type": "code",
   "execution_count": 11,
   "metadata": {},
   "outputs": [
    {
     "name": "stdout",
     "output_type": "stream",
     "text": [
      "4\n",
      "16\n"
     ]
    }
   ],
   "source": [
    "#Write a program to create a lambda function to find square of given no:\n",
    "s=lambda x:x*x\n",
    "print(s(2))\n",
    "print(s(4))"
   ]
  },
  {
   "cell_type": "code",
   "execution_count": 12,
   "metadata": {},
   "outputs": [
    {
     "name": "stdout",
     "output_type": "stream",
     "text": [
      "the sum of 2 and 4 is:6\n",
      "the sum of 25 and 25 is:50\n"
     ]
    }
   ],
   "source": [
    "#Lambda function to find sum of 2 given numbers\n",
    "s=lambda a,b:a+b\n",
    "print(\"the sum of {} and {} is:{}\".format(2,4,(s(2,4))))\n",
    "print(\"the sum of {} and {} is:{}\".format(25,25,(s(25,25))))"
   ]
  },
  {
   "cell_type": "code",
   "execution_count": 13,
   "metadata": {},
   "outputs": [
    {
     "name": "stdout",
     "output_type": "stream",
     "text": [
      "the biggest is 20\n"
     ]
    }
   ],
   "source": [
    "#Lambda Function to find biggest of given values\n",
    "s=lambda a,b:a if a>b else b\n",
    "print(\"the biggest is\",s(10,20))"
   ]
  },
  {
   "cell_type": "markdown",
   "metadata": {},
   "source": [
    "### Filter function\n",
    "- to filter group of values based o some condition from the given sequence\n",
    "- syntax:filter(function,sequence)"
   ]
  },
  {
   "cell_type": "code",
   "execution_count": 14,
   "metadata": {},
   "outputs": [
    {
     "name": "stdout",
     "output_type": "stream",
     "text": [
      "<class 'filter'>\n",
      "<class 'list'>\n",
      "[0, 10, 20, 30]\n"
     ]
    }
   ],
   "source": [
    "#example for filter\n",
    "#without lambda Function:\n",
    "def iseven(x):\n",
    "    if x%2==0:\n",
    "        return True\n",
    "    else:\n",
    "        return False\n",
    "l=[0,5,10,15,20,25,30]\n",
    "print(type(filter(iseven,l)))\n",
    "l1=list(filter(iseven,l))\n",
    "print(type(l1))\n",
    "print(l1)"
   ]
  },
  {
   "cell_type": "code",
   "execution_count": 15,
   "metadata": {},
   "outputs": [
    {
     "name": "stdout",
     "output_type": "stream",
     "text": [
      "[0, 10, 20, 30]\n"
     ]
    }
   ],
   "source": [
    "#lambda Function:\n",
    "l=[0,5,10,15,20,25,30]\n",
    "l1=list(filter(lambda x:x%2==0,l))\n",
    "print(l1)"
   ]
  },
  {
   "cell_type": "markdown",
   "metadata": {},
   "source": [
    "### Map  function\n",
    "- syntax:map(function,sequence)\n"
   ]
  },
  {
   "cell_type": "code",
   "execution_count": 18,
   "metadata": {},
   "outputs": [
    {
     "name": "stdout",
     "output_type": "stream",
     "text": [
      "[True, False, True, False, True, False, True]\n"
     ]
    }
   ],
   "source": [
    "l=[0,5,10,15,20,25,30]\n",
    "l1=list(map(lambda x:x%2==0,l))\n",
    "print(l1)"
   ]
  },
  {
   "cell_type": "code",
   "execution_count": 19,
   "metadata": {},
   "outputs": [
    {
     "name": "stdout",
     "output_type": "stream",
     "text": [
      "[2, 4, 6, 8, 10]\n"
     ]
    }
   ],
   "source": [
    "#example for map function\n",
    "#without lambda function\n",
    "def double(x):\n",
    "    return 2*x\n",
    "l=[1,2,3,4,5]\n",
    "l1=list(map(double,l))\n",
    "print(l1)"
   ]
  },
  {
   "cell_type": "code",
   "execution_count": 20,
   "metadata": {},
   "outputs": [
    {
     "name": "stdout",
     "output_type": "stream",
     "text": [
      "[1, 4, 9, 16, 25]\n"
     ]
    }
   ],
   "source": [
    "#example for map function\n",
    "#with lambda function\n",
    "l=[1,2,3,4,5]\n",
    "l1=list(map(lambda x:x*x,l))\n",
    "print(l1)"
   ]
  },
  {
   "cell_type": "code",
   "execution_count": 21,
   "metadata": {},
   "outputs": [
    {
     "name": "stdout",
     "output_type": "stream",
     "text": [
      "[2, 6, 12, 20]\n"
     ]
    }
   ],
   "source": [
    "#map() is apply for multiple lists also..but same length...\n",
    "#if you give differnt length it will ignore\n",
    "l1=[1,2,3,4]\n",
    "l2=[2,3,4,5]\n",
    "l3=list(map(lambda x,y:x*y,l1,l2))\n",
    "print(l3)"
   ]
  },
  {
   "cell_type": "code",
   "execution_count": 22,
   "metadata": {},
   "outputs": [
    {
     "name": "stdout",
     "output_type": "stream",
     "text": [
      "[2, 6, 12, 20]\n"
     ]
    }
   ],
   "source": [
    "#\n",
    "l1=[1,2,3,4,5,6]\n",
    "l2=[2,3,4,5]\n",
    "l3=list(map(lambda x,y:x*y,l1,l2))\n",
    "print(l3)"
   ]
  },
  {
   "cell_type": "markdown",
   "metadata": {},
   "source": [
    "#### reduce() function:\n",
    "- reduce() function reduces the sequences of elements in single element by applying the specified function..\n",
    "- syntax:\n",
    "   - reduce(function,sequence)\n",
    "- reduce()function present in functools module and hence we should  write import stmt."
   ]
  },
  {
   "cell_type": "code",
   "execution_count": 25,
   "metadata": {},
   "outputs": [
    {
     "name": "stdout",
     "output_type": "stream",
     "text": [
      "150\n"
     ]
    }
   ],
   "source": [
    "#Example for reduce\n",
    "from functools import reduce\n",
    "l=[10,20,30,40,50]\n",
    "s=reduce(lambda x,y:x+y,l)\n",
    "print(s)"
   ]
  },
  {
   "cell_type": "code",
   "execution_count": 26,
   "metadata": {},
   "outputs": [
    {
     "name": "stdout",
     "output_type": "stream",
     "text": [
      "5050\n"
     ]
    }
   ],
   "source": [
    "##Example for reduce\n",
    "from functools import *\n",
    "s=reduce(lambda x,y:x+y,range(1,101))\n",
    "print(s)"
   ]
  },
  {
   "cell_type": "markdown",
   "metadata": {},
   "source": [
    "## IMP  ###\n",
    "- In python every thing is  treated as object.\n",
    "- Every function is treated as object"
   ]
  },
  {
   "cell_type": "code",
   "execution_count": 32,
   "metadata": {},
   "outputs": [
    {
     "name": "stdout",
     "output_type": "stream",
     "text": [
      "hello\n",
      "140592883816920\n",
      "<function f1 at 0x7fde54e5d9d8>\n"
     ]
    }
   ],
   "source": [
    "#EXAMPLE FOR ABOVE STATEMENTS\n",
    "def f1():\n",
    "    print(\"hello\")\n",
    "f1()#function name which is refernce variable to function object\n",
    "print(id(f1))\n",
    "print(f1)"
   ]
  },
  {
   "cell_type": "code",
   "execution_count": null,
   "metadata": {},
   "outputs": [],
   "source": []
  }
 ],
 "metadata": {
  "kernelspec": {
   "display_name": "Python 3",
   "language": "python",
   "name": "python3"
  },
  "language_info": {
   "codemirror_mode": {
    "name": "ipython",
    "version": 3
   },
   "file_extension": ".py",
   "mimetype": "text/x-python",
   "name": "python",
   "nbconvert_exporter": "python",
   "pygments_lexer": "ipython3",
   "version": "3.6.9"
  }
 },
 "nbformat": 4,
 "nbformat_minor": 2
}
